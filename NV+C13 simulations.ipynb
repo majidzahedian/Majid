{
 "cells": [
  {
   "cell_type": "markdown",
   "id": "9d1cfeb6",
   "metadata": {},
   "source": [
    "# Some warm up calculation"
   ]
  },
  {
   "cell_type": "markdown",
   "id": "422ec66a",
   "metadata": {},
   "source": [
    "Final Goal:\\\n",
    "I want to consider 10 Nuclear spin (2 strong ones + 8 weak). Then, I execute Ramsey, Hahn-echo, XY4, XY8, 5 pulse ESEEM (at low and high magnetic field)"
   ]
  },
  {
   "cell_type": "markdown",
   "id": "2ffaef6b",
   "metadata": {},
   "source": [
    "Assumptions:\n",
    "1. Detuning $\\Delta=\\Omega_L - \\omega_{MW} = 0$ \n",
    "2. $\\Delta$g-factor due to spin orbit coupling is not considered. $g=g_e$ is only isotropic!\n",
    "3. All nuclear spins have the same larmor frequency $\\omega_L = \\gamma_n B$ . (magnetic field is homogenous over spin bath)\n",
    "4. MW pulses are perfect and only affects the state of electron spin:\\\n",
    "    a. The MW pulse is short such that we neglect S_y rotation.\\\n",
    "    b. off-resonant for nuclear spins (because 1ns pulse corresponds to 1GHz pulse bandwidth. However, in theory we always asuume monochromatic pulse which is in contradiction with a. Moreover, I don't know $\\color{red}{\\text{how much is TLS energy splitting?}}$ but it should not reach to the range of nuclear spin transitions.)\\\n",
    "    c. it happens in such a short time that we neglect nuclear spin evolution. ($\\color{red}{\\text{how good is it?}}$)\n",
    "5. Free Evolutions only affects the state of nuclear spins (secular approximation)\n",
    "6. Nuclear spin interactions is neglected. (At least for now)\n",
    "7. Electron spin is a two level system."
   ]
  },
  {
   "cell_type": "markdown",
   "id": "3a256e48",
   "metadata": {},
   "source": [
    "Let's consider one electron spin and N nuclear spins. First, we look at MW pulses.\n",
    "\n",
    "What is Hamiltonina during a MW pulse?\\\n",
    "$H= \\Omega_L [S_z \\otimes \\mathbb{1}^{(1)}\\otimes...\\otimes \\mathbb{1}^{(N)}] + D [S_z^2 \\otimes \\mathbb{1}^{(1)}\\otimes...\\otimes \\mathbb{1}^{(N)}] + \\Omega_R cos(\\Omega_L t)[S_x \\otimes \\mathbb{1}^{(1)}\\otimes...\\otimes \\mathbb{1}^{(N)}] + \\Sigma_{n=1}^N \\big( \\omega_L [\\mathbb{1}^{(e)}\\otimes \\mathbb{1}^{(1)}...\\otimes I_z^{(n)} \\otimes ...\\otimes \\mathbb{1}^{(N)}] + A_{zz}^{(n)}[S_z\\otimes \\mathbb{1}^{(1)}...I_x^{(n)} \\otimes ...\\otimes \\mathbb{1}^{(N)}]+ A_{zx}^{(n)} [S_z\\otimes \\mathbb{1}^{(1)}...I_x^{(n)} \\otimes ...\\otimes \\mathbb{1}^{(N)}]\\big)$\n",
    "\n",
    "We always go to the following Rotating frame:\\\n",
    "$U_{RF}= exp\\Big(i \\big(\\Omega_L[S_z \\otimes \\mathbb{1}^{(1)}\\otimes...\\otimes \\mathbb{1}^{(N)}] + D [S_z^2 \\otimes \\mathbb{1}^{(1)}\\otimes...\\otimes \\mathbb{1}^{(N)}] \\big)t\\Big)$\n",
    "\n",
    "Then, the Hamiltonian will be:\\\n",
    "$H= \\Omega_R [\\color{red}{(cos^2(\\Omega_L t)S_x-cos(\\Omega_L t)sin(\\Omega_L t)S_y)} \\otimes \\mathbb{1}^{(1)}\\otimes...\\otimes \\mathbb{1}^{(N)}] + \\Sigma_{n=1}^N \\big( \\omega_L [\\mathbb{1}^{(e)}\\otimes \\mathbb{1}^{(1)}...\\otimes I_z^{(n)} \\otimes ...\\otimes \\mathbb{1}^{(N)}] + A_{zz}^{(n)}[S_z\\otimes \\mathbb{1}^{(1)}...I_x^{(n)} \\otimes ...\\otimes \\mathbb{1}^{(N)}]+ A_{zx}^{(n)} [S_z\\otimes \\mathbb{1}^{(1)}...I_x^{(n)} \\otimes ...\\otimes \\mathbb{1}^{(N)}]\\big)$\n",
    "\n",
    "We always assume the pulse is short such that the Hamiltonian can be approximated as follows:\\\n",
    "$H\\approx \\Omega_R [S_x \\otimes \\mathbb{1}^{(1)}\\otimes...\\otimes \\mathbb{1}^{(N)}] + \\Sigma_{n=1}^N \\big( \\omega_L [\\mathbb{1}^{(e)}\\otimes \\mathbb{1}^{(1)}...\\otimes I_z^{(n)} \\otimes ...\\otimes \\mathbb{1}^{(N)}] + A_{zz}^{(n)}[S_z\\otimes \\mathbb{1}^{(1)}...I_x^{(n)} \\otimes ...\\otimes \\mathbb{1}^{(N)}]+ A_{zx}^{(n)} [S_z\\otimes \\mathbb{1}^{(1)}...I_x^{(n)} \\otimes ...\\otimes \\mathbb{1}^{(N)}]\\big)$\n",
    "\n",
    "$$\\newcommand{\\ket}[1]{\\left|{#1}\\right\\rangle}$$\n",
    "$$\\newcommand{\\bra}[1]{\\left\\langle{#1}\\right|}$$\n",
    "$$\\newcommand{\\braket}[2]{\\left\\langle{#1}\\middle|{#2}\\right\\rangle}$$\n",
    "$$\\newcommand{\\ketbra}[2]{\\left|{#1}\\right\\rangle\\left\\langle{#2}\\right|}$$\n",
    "The state before MW pulse:\n",
    "\n",
    "$\\rho_0 = \\ketbra{\\psi_0}{\\psi_0}\\otimes \\rho^{(1)}\\otimes ... \\otimes \\rho^{(N)}$\n",
    "\n",
    "We do not consider the free evolution of nuclear spin whitin this short time.($\\color{red}{\\text{how good is it?}}$ $\\Omega_R \\gg \\omega_L, A_{zz}, A_{zx}$)) The state after MW pulse:\n",
    "\n",
    "$\\rho = U \\rho_0 U^\\dagger \\approx (e^{(i\\Omega_R t S_x)}\\ketbra{\\psi_0}{\\psi_0}e^{(-i\\Omega_R t S_x)})\\otimes \\rho^{(1)}\\otimes ... \\otimes \\rho^{(N)}$\n"
   ]
  },
  {
   "cell_type": "markdown",
   "id": "b2484d35",
   "metadata": {},
   "source": [
    "# Sequence Dynamics\n",
    "\n",
    "Now let's look at the evolution of the system. The Hamiltonian for the sequence in rotating frame is given by (ignoring MW pulses):\n",
    "\n",
    "$H= \\Sigma_{n=1}^N \\Big( \\omega_L [\\mathbb{1}^{(e)}\\otimes \\mathbb{1}^{(1)}...\\otimes I_z^{(n)} \\otimes ...\\otimes \\mathbb{1}^{(N)}] + A_{zz}^{(n)}[S_z\\otimes \\mathbb{1}^{(1)}...I_x^{(n)} \\otimes ...\\otimes \\mathbb{1}^{(N)}]+ A_{zx}^{(n)} [S_z\\otimes \\mathbb{1}^{(1)}...I_x^{(n)} \\otimes ...\\otimes \\mathbb{1}^{(N)}]\\Big)$\n",
    "\n",
    "We write down evolutions between two pi-half pulses. We write down evoulutions ,first,for the pure state and then in terms of density matrices.\\\n",
    "The initial state is:\\\n",
    "\n",
    "$\\ket{\\psi_0} = \\ket{x}\\otimes ...\\otimes \\ket{\\psi^{(n)}}$ , $\\ket{x}=\\frac{\\ket{0}+\\ket{1}}{\\sqrt{2}}$\n",
    "\n",
    "The state after the evolution is:\n",
    "\n",
    "$\\ket{\\psi}= U\\ket{\\psi_0}=U^{(1)}U^{(2)}...U^{(n)}\\ket{\\psi_0}=\\frac{\\ket{0}}{\\sqrt{2}}\\otimes ...\\otimes U_0^{(n)}\\ket{\\psi^{(n)}}+\\frac{\\ket{1}}{\\sqrt{2}}\\otimes ...\\otimes U_1^{(n)}\\ket{\\psi^{(n)}}$\n",
    "\n",
    "Where $U_0^{(n)}, U_1^{(n)}$ are unitary operators for n-th nuclear spin when the electron spin end up at 0, 1 respectively. For example in the case of:\n",
    "\n",
    "1. Ramsey: $U_1^{(n)} = \\color{blue}{e^{i((\\omega_L+A_{zz}^{(n)})I_z+A_{zx}^{(n)}I_x)t}}$ and $U_0^{(n)} = \\color{orange}{e^{i(\\omega_L I_z)t}}$\n",
    "\n",
    "2. Hahn-echo: $U_1^{(n)} = \\color{blue}{e^{i((\\omega_L+A_{zz}^{(n)})I_z+A_{zx}^{(n)}I_x)t}} \\color{orange}{e^{i(\\omega_L I_z)t}}$ and $U_0^{(n)} = \\color{orange}{e^{i(\\omega_L I_z)t}}\\color{blue}{e^{i((\\omega_L+A_{zz}^{(n)})I_z+A_{zx}^{(n)}I_x)t}}$\n",
    "\n",
    "3. $\\frac{\\tau}{2}$-$\\pi$-$\\tau$-$\\pi$-$\\frac{\\tau}{2}$: $U_1^{(n)} = \\color{blue}{e^{i((\\omega_L+A_{zz}^{(n)})I_z+A_{zx}^{(n)}I_x)\\frac{\\tau}{2}}} \\color{orange}{e^{i(\\omega_L I_z)\\tau}} \\color{blue}{e^{i((\\omega_L+A_{zz}^{(n)})I_z+A_{zx}^{(n)}I_x)\\frac{\\tau}{2}}}$ and $U_0^{(n)} = \\color{orange}{e^{i(\\omega_L I_z)\\frac{\\tau}{2}}}\\color{blue}{e^{i((\\omega_L+A_{zz}^{(n)})I_z+A_{zx}^{(n)}I_x)\\tau}}\\color{orange}{e^{i(\\omega_L I_z)\\frac{\\tau}{2}}}$\n",
    "\n",
    "4. likewise ...\n",
    "\n",
    "\n",
    "This formalism is correct as long as 0 and 1 are mapped to eachother accordingly (as long as having pi pulses not matter around x or y.) If we use pi-half pulse then summation of unitaries appear."
   ]
  },
  {
   "cell_type": "markdown",
   "id": "f98db11b",
   "metadata": {},
   "source": [
    "# State Fidelity: $F=\\braket{\\Phi}{\\psi} \\braket{\\psi}{\\Phi}$\n",
    "\n",
    "$\\ket{\\Phi} = \\ket{x}\\otimes \\mathbb{1}\\otimes...\\otimes\\mathbb{1}$\n",
    "\n",
    "$F= Tr\\Big[\\big(\\frac{1}{2} U_0^{(1)}\\ket{\\psi^{(1)}}\\otimes...\\otimes U_0^{(n)}\\ket{\\psi^{(n)}}+ \\frac{1}{2}  U_1^{(1)}\\ket{\\psi^{(1)}}\\otimes... \\otimes U_1^{(n)}\\ket{\\psi^{(n)}}\\big) \\\\\n",
    "\\big(\\frac{1}{2} \\bra{\\psi^{(1)}} U_0^{\\dagger(1)}\\otimes... \\bra{\\psi^{\\dagger(n)}} U_0^{\\dagger(n)}+ \\frac{1}{2} \\bra{\\psi^{(1)}} U_1^{\\dagger(1)}\\otimes... \\otimes\\bra{\\psi^{(n)}} U_1^{\\dagger(n)}\\big)\\Big]$\n",
    "\n",
    "In order to solve the state fidelity we have to consider some assumptions. We assume all nuclear spin are fully mixed state. This simplifies a lot:\n",
    "\n",
    "Since $\\ket{\\psi^{(i)}}\\bra{\\psi^{(i)}}= \\frac{1}{2}\\mathbb{1}$, then for any operator A, B we have the following propterties:\\\n",
    "$\\bra{\\psi^{(i)}}A\\ket{\\psi^{(i)}}=\\frac{1}{2} Tr(A)$ and $\\bra{\\psi^{(i)}}A\\ket{\\psi^{(i)}}\\bra{\\psi^{(i)}}B\\ket{\\psi^{(i)}}=\\frac{1}{2}\\bra{\\psi^{(i)}}AB\\ket{\\psi^{(i)}}= \\frac{1}{4}Tr(AB)$\n",
    "\n",
    "$Tr\\Big(U_0^{(1)}\\ket{\\psi^{(1)}} \\bra{\\psi^{(1)}} U_0^{\\dagger(1)}\\Big) = \\frac{1}{2}Tr(\\mathbb{1})=1$\n",
    "\n",
    "$Tr\\Big(U_0^{(1)}\\ket{\\psi^{(1)}} \\bra{\\psi^{(1)}} U_1^{\\dagger(1)}\\Big) = \\frac{1}{2}Tr(U_0^{(1)}U_1^{\\dagger(1)})$\n",
    "\n",
    "So, the state fidelity will be simplified to:\n",
    "\n",
    "$F=\\frac{1}{4} + \\frac{1}{4} + \\frac{1}{4}\\frac{1}{2^n} Tr(U_0^{(1)}U_1^{\\dagger(1)})...Tr(U_0^{(n)}U_1^{\\dagger(n)})+ \\frac{1}{4}\\frac{1}{2^n} Tr(U_1^{(1)}U_0^{\\dagger(1)})...Tr(U_1^{(n)}U_0^{\\dagger(n)})$\n",
    "\n",
    "# $F= \\frac{1 + \\frac{1}{2^n} Re[Tr(U_0^{(1)}U_1^{\\dagger(1)})...Tr(U_0^{(n)}U_1^{\\dagger(n)})]}{2}$"
   ]
  },
  {
   "cell_type": "markdown",
   "id": "50241c83",
   "metadata": {},
   "source": [
    "Now We look at the evolution of density matrix. The initial density matrix is:\n",
    "\n",
    "$\\rho_0 = \\ket{x}\\bra{x} \\otimes \\rho^{(1)} \\otimes ... \\otimes \\rho^{(n)}= \\frac{\\ket{0}\\bra{0}}{2} \\otimes \\rho^{(1)} \\otimes ... \\otimes \\rho^{(n)} + \\frac{\\ket{1}\\bra{1}}{2} \\otimes \\rho^{(1)} \\otimes ... \\otimes \\rho^{(n)} + \\frac{\\ket{0}\\bra{1}}{2} \\otimes \\rho^{(1)} \\otimes ... \\otimes \\rho^{(n)} + \\frac{\\ket{1}\\bra{0}}{2} \\otimes \\rho^{(1)} \\otimes ... \\otimes \\rho^{(n)}$\n",
    "\n",
    "The state after the evolution is:\n",
    "\n",
    "$\\rho = U \\rho_0 U = \\frac{\\ket{0}\\bra{0}}{2} \\otimes \\color{orange}{U_0^{(1)}}\\rho^{(1)}\\color{orange}{U_0^{\\dagger(1)}} \\otimes ... \\otimes \\color{orange}{U_0^{(n)}}\\rho^{(n)}\\color{orange}{U_0^{\\dagger(n)}} + \\frac{\\ket{1}\\bra{1}}{2} \\otimes \\color{blue}{U_1^{(1)}}\\rho^{(1)}\\color{blue}{U_1^{\\dagger(1)}} \\otimes ... \\otimes \\color{blue}{U_1^{(n)}}\\rho^{(n)}\\color{blue}{U_1^{\\dagger(n)}} \\\\\n",
    "+ \\frac{\\ket{0}\\bra{1}}{2} \\otimes \\color{orange}{U_0^{(1)}}\\rho^{(1)}\\color{blue}{U_1^{\\dagger(1)}} \\otimes ... \\otimes \\color{orange}{U_0^{(n)}}\\rho^{(n)}\\color{blue}{U_1^{\\dagger(n)}} + \\frac{\\ket{1}\\bra{0}}{2} \\otimes \\color{blue}{U_1^{(1)}}\\rho^{(1)}\\color{orange}{U_0^{\\dagger(1)}} \\otimes ... \\otimes \\color{blue}{U_1^{(n)}}\\rho^{(n)}\\color{orange}{U_0^{\\dagger(n)}}$"
   ]
  },
  {
   "cell_type": "markdown",
   "id": "653b7faf",
   "metadata": {},
   "source": [
    "# State Fidelity: $F(\\sigma,\\rho)=\\Big( Tr\\sqrt{\\sqrt{\\sigma}\\rho \\sqrt{\\sigma}} \\Big)^2 = Tr(\\sigma \\rho)+2 \\sqrt{det(\\sigma) det(\\rho)}$\n",
    "\n",
    "In our case $\\sigma = \\ket{x}\\bra{x} \\otimes \\mathbb{1}\\otimes ...\\mathbb{1}$ and $det(\\sigma)=0$. (because $det(\\ket{x}\\bra{x})=0$)\n",
    "\n",
    "$F = Tr\\Big(\\ket{x}\\bra{x}\\frac{\\ket{0}\\bra{0}}{2} \\otimes ...\\otimes \\color{orange}{U_0^{(n)}}\\rho^{(n)}\\color{orange}{U_0^{\\dagger(n)}} + \\ket{x}\\bra{x}\\frac{\\ket{1}\\bra{1}}{2} \\otimes ...\\otimes \\color{blue}{U_1^{(n)}}\\rho^{(n)}\\color{blue}{U_1^{\\dagger(n)}}\\\\\n",
    "+ \\ket{x}\\bra{x}\\frac{\\ket{0}\\bra{1}}{2} \\otimes ...\\otimes \\color{orange}{U_0^{(n)}}\\rho^{(n)}\\color{blue}{U_1^{\\dagger(n)}} + \\ket{x}\\bra{x}\\frac{\\ket{1}\\bra{0}}{2} \\otimes ...\\otimes \\color{blue}{U_1^{(n)}}\\rho^{(n)}\\color{orange}{U_0^{\\dagger(n)}}\\Big)$\n",
    "\n",
    "In order to simplify futher, we have to assume all  nuclear spins are in fully mixed state as before:\n",
    "\n",
    "Note that: $Tr(U_0^{(n)}\\rho^{(n)}U_0^{\\dagger(n)})=\\frac{1}{2}Tr(\\mathbb{1})=1$ and $Tr(U_0^{(n)}\\rho^{(n)}U_0^{\\dagger(n)})=\\frac{1}{2}Tr(U_0^{(n)}U_1^{\\dagger(n)})$\n",
    "\n",
    "$F = \\frac{1}{4} + \\frac{1}{4} + \\frac{1}{4}\\frac{1}{2^n} \\Pi_{i=0}^n Tr(U_0^{(i)}U_1^{\\dagger(i)}) + \\frac{1}{4}\\frac{1}{2^n} \\Pi_{i=0}^n Tr(U_1^{(i)}U_0^{\\dagger(i)})$\n",
    "\n",
    "# $F= \\frac{1+\\frac{1}{2^n} Re[\\Pi_{i=0}^n Tr(U_0^{(i)}U_1^{\\dagger(i)})]}{2}$"
   ]
  },
  {
   "cell_type": "markdown",
   "id": "e9ff4a45",
   "metadata": {},
   "source": [
    "# comparison with Taminiau's paper\n",
    "\n",
    "For one nuclear spin:\n",
    "\n",
    "$\\color{red}{F_{Taminiau}= \\frac{1+Re[Tr(U_0 U_1^\\dagger)]}{2}}$ and $F = \\frac{1+\\color{green}{0.5} Re[Tr(U_0 U_1^\\dagger)]}{2}$\n",
    "\n",
    "Now let's open the unitary operators (for example the case of $\\frac{\\tau}{2}$-$\\pi$-$\\tau$-$\\pi$-$\\frac{\\tau}{2}$):\n",
    "\n",
    "$U_0 = exp(-i\\phi(I.n0))= cos(\\phi)\\mathbb{1}-i. sin(\\phi)(n0_x I_x+n0_y I_y+n0_z I_z)$ =$\\begin{bmatrix} cos(\\phi)-i. sin(\\phi).n0_z & -i. sin(\\phi).n0_x-sin(\\phi).n0_y  \\\\-i. sin(\\phi).n0_x +sin(\\phi).n0_y & cos(\\phi)+i. sin(\\phi). n0_z  \\end{bmatrix}$\n",
    "\n",
    "$U_1^\\dagger = exp(i\\phi(I.n1))=cos(\\phi)\\mathbb{1}+i. sin(\\phi)(n1_x I_x+n1_y I_y+n1_z I_z)$ =$\\begin{bmatrix} cos(\\phi)+i. sin(\\phi).n1_z & i. sin(\\phi).n1_x+sin(\\phi).n1_y  \\\\i. sin(\\phi).n1_x-sin(\\phi).n1_y & cos(\\phi)-i. sin(\\phi). n1_z  \\end{bmatrix}$\n",
    "\n",
    "$U_0 U_1^\\dagger$ = $\\begin{bmatrix} (cos(\\phi)-i. sin(\\phi).n0_z)(cos(\\phi)+i. sin(\\phi).n1_z)+sin^2(\\phi)(n1_x.n0_x+n1_y.n0_y) & ...  \\\\... & (cos(\\phi)+i. sin(\\phi). n0_z)(cos(\\phi)-i. sin(\\phi). n1_z)+sin^2(\\phi)(n1_x.n0_x+n1_y.n0_y) \\end{bmatrix}$\n",
    "\n",
    "$M=Tr(U_0 U_1^\\dagger)=2(cos^2(\\phi)+sin^2(\\phi).n0_z.n1_z+sin^2(\\phi)(n1_x.n0_x+n1_y.n0_y))=\\color{green}{2}[1-(1-n0.n1)sin^2(\\phi)]$\n",
    "\n",
    "M is already a real number. One doesn't need to take the real part!\n",
    "\n",
    "They accidentally got the correct expression: $P_x = F = \\frac{1+0.5 M}{2}=\\frac{2-(1-n0.n1)sin^2(\\phi)}{2}$\n",
    "\n",
    "For more than one nuclear spins:\n",
    "\n",
    "$\\color{red}{F_{Abobeih} = \\frac{1+\\Pi_{i=0}^n Re[Tr(U_0^{(i)}U_1^{\\dagger(i)})]}{2} }$ and $\\color{green}{F= \\frac{1+\\frac{1}{2^n} Re[\\Pi_{i=0}^n Tr(U_0^{(i)}U_1^{\\dagger(i)})]}{2}}$"
   ]
  },
  {
   "cell_type": "markdown",
   "id": "207289e0",
   "metadata": {},
   "source": [
    "# expectation value of $\\sigma_x$\n",
    "\n",
    "$<\\sigma_x> = Tr(\\rho \\sigma_x) = \\frac{1}{2} Tr(U_0^{(1)}\\rho^{(1)}U_1^{\\dagger(1)})... Tr(U_0^{(n)}\\rho^{(n)} U_1^{\\dagger(n)}) = \\frac{1}{2^n} Re[ \\Pi_{i=1}^n Tr(U_0^{(i)}U_1^{\\dagger(i)})]$\n",
    "\n",
    "Please note that:\n",
    "\n",
    "Multiplication of two nuclear spins: $<\\sigma_x>^{(1)} <\\sigma_x>^{(2)} = \\frac{1}{4} Re[Tr(U_0^{(1)} U_1^{\\dagger(1)})] Re[Tr(U_0^{(2)} U_1^{\\dagger(2)})]$\n",
    "\n",
    "The correct expression for two nuclear spins: $<\\sigma_x>^{(1,2)} = \\frac{1}{4} Re\\Big[Tr(U_0^{(1)} U_1^{\\dagger(1)}) Tr(U_0^{(2)} U_1^{\\dagger(2)})\\Big]$\n",
    "\n",
    "Hence becasue all expectation values are real: $\\color{Green}{<\\sigma_x>^{(1,2)}=<\\sigma_x>^{(1)} <\\sigma_x>^{(2)}}$\n",
    "\n",
    "The state fidelity and $<\\sigma_x>$ are related as follows:\n",
    "\n",
    "# $F=\\frac{1+<\\sigma_x>}{2}$\n"
   ]
  },
  {
   "cell_type": "markdown",
   "id": "1a947fea",
   "metadata": {},
   "source": [
    "Let's calculate Fidelity for DD sequence. \n",
    "\n",
    "# The group composition law of SU(2) $e^{ia(n.\\sigma)} e^{ib(m.\\sigma)}=e^{ic(k.\\sigma)}$\n",
    "\n",
    "where $cos(c)=cos(a)cos(b)-n.m sin(a)sin(b)$ and $k=\\frac{1}{sin(c)}(n .sin(a)cos(b)+m sin(b)cos(a)-n\\times m .sin(a)sin(b) )$\n",
    "\n",
    "For the case of Dynamic Decoupling sequence, we have $\\frac{\\tau}{2}$-$\\pi$-$\\tau$-$\\pi$-$\\frac{\\tau}{2}$:\n",
    "\n",
    "$U_1 = e^{i((\\omega_L+A_{zz})I_z+A_{zx}I_x)\\frac{\\tau}{2}} e^{i(\\omega_L I_z)\\tau} e^{i((\\omega_L+A_{zz})I_z+A_{zx}I_x)\\frac{\\tau}{2}} = e^{i(\\omega_h \\frac{\\tau}{2})(n_x I_x + n_z I_z)}e^{i(\\omega_L\\tau)(I_z)} e^{i(\\omega_h \\frac{\\tau}{2})(n_x I_x + n_z I_z)}$\n",
    "\n",
    "$U_0 = e^{i(\\omega_L I_z)\\frac{\\tau}{2}} e^{i((\\omega_L+A_{zz})I_z+A_{zx}I_x)\\tau} e^{i(\\omega_L I_z)\\frac{\\tau}{2}}=e^{i(\\omega_L\\frac{\\tau}{2})(I_z)} e^{i(\\omega_h \\tau)(n_x I_x + n_z I_z)}e^{i(\\omega_L\\frac{\\tau}{2})(I_z)}$\n",
    "\n",
    "Where $\\omega_h = \\sqrt{(\\omega_L + A_{zz})^2+A_zx^2}$ and $n_z=\\frac{\\omega_L + A_{zz}}{\\omega_h}$ and $n_x=\\frac{A_{zx}}{\\omega_h}$\n",
    "\n",
    "$U_0 U_1^\\dagger= e^{i(\\omega_L\\frac{\\tau}{2})(I_z)} e^{i(\\omega_h \\tau)(n_x I_x + n_z I_z)}e^{i(\\omega_L\\frac{\\tau}{2})(I_z)} e^{-i(\\omega_h \\frac{\\tau}{2})(n_x I_x + n_z I_z)}e^{-i(\\omega_L\\tau)(I_z)} e^{-i(\\omega_h \\frac{\\tau}{2})(n_x I_x + n_z I_z)}$"
   ]
  },
  {
   "cell_type": "markdown",
   "id": "82c35a3f",
   "metadata": {},
   "source": [
    "# Arbitrary D.D. Sequence\n",
    "\n",
    "The considered sequence $\\frac{\\tau_1}{2}$-$\\pi$-$\\tau_2$-$\\pi$-$\\frac{\\tau_3}{2}$:\n",
    "\n",
    "$U_1 = e^{i(\\omega_h \\frac{\\tau_3}{2})(n_x I_x + n_z I_z)}e^{i(\\omega_L\\tau_2)(I_z)} e^{i(\\omega_h \\frac{\\tau_1}{2})(n_x I_x + n_z I_z)}$\n",
    "\n",
    "$U_0 = e^{i(\\omega_L\\frac{\\tau_3}{2})(I_z)} e^{i(\\omega_h \\tau_2)(n_x I_x + n_z I_z)}e^{i(\\omega_L\\frac{\\tau_1}{2})(I_z)}$\n",
    "\n",
    "$U_0 U_1^\\dagger= e^{i(\\omega_L\\frac{\\tau_3}{2})(I_z)} e^{i(\\omega_h \\tau_2)(n_x I_x + n_z I_z)}e^{i(\\omega_L\\frac{\\tau_1}{2})(I_z)} e^{-i(\\omega_h \\frac{\\tau_1}{2})(n_x I_x + n_z I_z)}e^{-i(\\omega_L\\tau_2)(I_z)} e^{-i(\\omega_h \\frac{\\tau_3}{2})(n_x I_x + n_z I_z)}$"
   ]
  },
  {
   "cell_type": "code",
   "execution_count": 38,
   "id": "0dc324d9",
   "metadata": {},
   "outputs": [],
   "source": [
    "from qutip import *\n",
    "import numpy as np\n",
    "import matplotlib.pyplot as plt\n",
    "import tqdm\n",
    "\n",
    "B = 50 # in units of Gaus\n",
    "wL = 1.08*B # in units of kHz\n",
    "\n",
    "Sz_e = (sigmaz()-qeye(2))*0.5 #NV in (0, -1) subspace\n",
    "Sz = tensor(Sz_e, qeye(2))\n",
    "\n",
    "\n",
    "Iz = tensor(qeye(2), sigmaz()*0.5) #13C is spin 1/2\n",
    "Ix = tensor(qeye(2), sigmax()*0.5)\n",
    "\n",
    "Azz = [-204, 51.5] # in kHz\n",
    "Azx = [64.4, 143.6] # in kHz\n",
    "H = 2*np.pi*wL*Iz + 2*np.pi*Azz[0]*Sz*Iz +2*np.pi*Azx[0]*Sz*Ix"
   ]
  },
  {
   "cell_type": "code",
   "execution_count": 57,
   "id": "f2ef345a",
   "metadata": {},
   "outputs": [
    {
     "data": {
      "text/plain": [
       "0.6067143801599798"
      ]
     },
     "execution_count": 57,
     "metadata": {},
     "output_type": "execute_result"
    }
   ],
   "source": [
    "from qutip.qip.operations import gates\n",
    "\n",
    "C13_number = 1 # number of nuclear spin\n",
    "# MW pi/2 pulses for electron spin\n",
    "pi2_x = gates.rotation(op=sigmax(), phi=np.pi/2.0, N=1+C13_number, target=0)\n",
    "pi2_y = gates.rotation(op=sigmay(), phi=np.pi/2.0, N=1+C13_number, target=0)\n",
    "# Mw pi pulses for electron spin\n",
    "pi_x = gates.rotation(op=sigmax(), phi=np.pi, N=2,target=0)\n",
    "\n",
    "rho0= tensor(fock_dm(2,0), qeye(2)*0.5)\n",
    "# Ramsey sequence\n",
    "rho = pi2_x * rho0\n",
    "result = mesolve(rho0=rho, H=H, tlist=np.linspace(0,0.003,10), options = Options(nsteps=1e6))\n",
    "\n",
    "rho = pi2_x * result.states[-2]\n",
    "p0 = np.real(expect(sigmaz(), rho.ptrace(0)))\n",
    "p0"
   ]
  },
  {
   "cell_type": "raw",
   "id": "6fa6ee8e",
   "metadata": {},
   "source": []
  },
  {
   "cell_type": "markdown",
   "id": "52ac5bc9",
   "metadata": {},
   "source": [
    "# Ramsey"
   ]
  },
  {
   "cell_type": "code",
   "execution_count": 78,
   "id": "afd97ab0",
   "metadata": {},
   "outputs": [
    {
     "name": "stdout",
     "output_type": "stream",
     "text": [
      "Quantum object: dims = [[2], [2]], shape = (2, 2), type = oper, isherm = False\n",
      "Qobj data =\n",
      "[[0.85355339+0.35355339j 0.14644661-0.35355339j]\n",
      " [0.14644661-0.35355339j 0.85355339+0.35355339j]]\n"
     ]
    },
    {
     "data": {
      "text/latex": [
       "Quantum object: dims = [[2], [1]], shape = (2, 1), type = ket\\begin{equation*}\\left(\\begin{array}{*{11}c}(0.854+0.354j)\\\\(0.146-0.354j)\\\\\\end{array}\\right)\\end{equation*}"
      ],
      "text/plain": [
       "Quantum object: dims = [[2], [1]], shape = (2, 1), type = ket\n",
       "Qobj data =\n",
       "[[0.85355339+0.35355339j]\n",
       " [0.14644661-0.35355339j]]"
      ]
     },
     "execution_count": 78,
     "metadata": {},
     "output_type": "execute_result"
    }
   ],
   "source": [
    "Sx_e = (sigmax()-qeye(2))*0.5 #NV in (0, -1) subspace\n",
    "pi_x = gates.rotation(op=Sx_e, phi=np.pi/2)\n",
    "\n",
    "print(pi_x)\n",
    "pi_x*basis(2,0)"
   ]
  },
  {
   "cell_type": "code",
   "execution_count": 80,
   "id": "a96dd66d",
   "metadata": {},
   "outputs": [
    {
     "name": "stdout",
     "output_type": "stream",
     "text": [
      "Quantum object: dims = [[2], [2]], shape = (2, 2), type = oper, isherm = False\n",
      "Qobj data =\n",
      "[[0.70710678+0.j         0.        -0.70710678j]\n",
      " [0.        -0.70710678j 0.70710678+0.j        ]]\n"
     ]
    },
    {
     "data": {
      "text/latex": [
       "Quantum object: dims = [[2], [1]], shape = (2, 1), type = ket\\begin{equation*}\\left(\\begin{array}{*{11}c}0.707\\\\-0.707j\\\\\\end{array}\\right)\\end{equation*}"
      ],
      "text/plain": [
       "Quantum object: dims = [[2], [1]], shape = (2, 1), type = ket\n",
       "Qobj data =\n",
       "[[0.70710678+0.j        ]\n",
       " [0.        -0.70710678j]]"
      ]
     },
     "execution_count": 80,
     "metadata": {},
     "output_type": "execute_result"
    }
   ],
   "source": [
    "pi_x = gates.rotation(op=sigmax(), phi=np.pi/2)\n",
    "print(pi_x)\n",
    "pi_x*basis(2,0)"
   ]
  },
  {
   "cell_type": "code",
   "execution_count": 95,
   "id": "5b8b0759",
   "metadata": {},
   "outputs": [
    {
     "name": "stdout",
     "output_type": "stream",
     "text": [
      "Quantum object: dims = [[2], [2]], shape = (2, 2), type = oper, isherm = False\n",
      "Qobj data =\n",
      "[[2.+1.j 0.+0.j]\n",
      " [0.+0.j 0.+0.j]]\n",
      "Quantum object: dims = [[2], [2]], shape = (2, 2), type = oper, isherm = False\n",
      "Qobj data =\n",
      "[[1.+0.j 0.+0.j]\n",
      " [0.+0.j 4.-2.j]]\n"
     ]
    },
    {
     "data": {
      "text/plain": [
       "12.0"
      ]
     },
     "execution_count": 95,
     "metadata": {},
     "output_type": "execute_result"
    }
   ],
   "source": [
    "A = fock_dm(2,0)*(2+1j)\n",
    "print(A)\n",
    "B = fock_dm(2,1)*(3-2j)+qeye(2)\n",
    "print(B)\n",
    "np.real(tensor(A,B).tr())"
   ]
  },
  {
   "cell_type": "code",
   "execution_count": 96,
   "id": "2e4e826c",
   "metadata": {},
   "outputs": [
    {
     "data": {
      "text/plain": [
       "10.0"
      ]
     },
     "execution_count": 96,
     "metadata": {},
     "output_type": "execute_result"
    }
   ],
   "source": [
    "np.real(A.tr())*np.real(B.tr())"
   ]
  },
  {
   "cell_type": "code",
   "execution_count": 97,
   "id": "f3ecadaa",
   "metadata": {},
   "outputs": [
    {
     "data": {
      "text/plain": [
       "12.0"
      ]
     },
     "execution_count": 97,
     "metadata": {},
     "output_type": "execute_result"
    }
   ],
   "source": [
    "np.real(A.tr()*B.tr())"
   ]
  },
  {
   "cell_type": "code",
   "execution_count": 135,
   "id": "7c8f1b40",
   "metadata": {},
   "outputs": [
    {
     "data": {
      "text/plain": [
       "0.0"
      ]
     },
     "execution_count": 135,
     "metadata": {},
     "output_type": "execute_result"
    }
   ],
   "source": [
    "x=0.5*Qobj([[1,-1], [-1,1]])\n",
    "(sigmaz()*x).tr()"
   ]
  },
  {
   "cell_type": "code",
   "execution_count": 136,
   "id": "3a2aac4c",
   "metadata": {},
   "outputs": [
    {
     "data": {
      "text/plain": [
       "2.0"
      ]
     },
     "execution_count": 136,
     "metadata": {},
     "output_type": "execute_result"
    }
   ],
   "source": [
    "from scipy.linalg import sqrtm\n",
    "Qobj([[1,0], [0,1]]).tr()"
   ]
  },
  {
   "cell_type": "code",
   "execution_count": 117,
   "id": "9650182b",
   "metadata": {},
   "outputs": [
    {
     "data": {
      "text/plain": [
       "array([[0.55368857+0.46439416j, 0.80696073-0.21242648j],\n",
       "       [1.21044109-0.31863972j, 1.76412966+0.14575444j]])"
      ]
     },
     "execution_count": 117,
     "metadata": {},
     "output_type": "execute_result"
    }
   ],
   "source": [
    "sqrtm(np.array([[1,2],[3,4]]))"
   ]
  },
  {
   "cell_type": "code",
   "execution_count": null,
   "id": "a26efe19",
   "metadata": {},
   "outputs": [],
   "source": []
  }
 ],
 "metadata": {
  "kernelspec": {
   "display_name": "Python 3 (ipykernel)",
   "language": "python",
   "name": "python3"
  },
  "language_info": {
   "codemirror_mode": {
    "name": "ipython",
    "version": 3
   },
   "file_extension": ".py",
   "mimetype": "text/x-python",
   "name": "python",
   "nbconvert_exporter": "python",
   "pygments_lexer": "ipython3",
   "version": "3.9.7"
  }
 },
 "nbformat": 4,
 "nbformat_minor": 5
}
