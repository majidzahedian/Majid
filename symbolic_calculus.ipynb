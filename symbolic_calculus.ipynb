{
 "cells": [
  {
   "cell_type": "code",
   "execution_count": 1,
   "id": "603b8c99",
   "metadata": {},
   "outputs": [],
   "source": [
    "from sympy import *"
   ]
  },
  {
   "cell_type": "code",
   "execution_count": 15,
   "id": "c048d997",
   "metadata": {},
   "outputs": [],
   "source": [
    "mx, mz, nx, nz, o0, o1 = symbols(r\"m_x m_z n_x n_z \\theta_0 \\theta_1\")"
   ]
  },
  {
   "cell_type": "code",
   "execution_count": 16,
   "id": "1655ead1",
   "metadata": {},
   "outputs": [
    {
     "data": {
      "text/latex": [
       "$\\displaystyle - \\left(m_{x} n_{x} + m_{z} n_{z}\\right) \\sin{\\left(\\frac{\\theta_{0}}{2} \\right)} \\sin{\\left(\\frac{\\theta_{1}}{2} \\right)} + \\cos{\\left(\\frac{\\theta_{0}}{2} \\right)} \\cos{\\left(\\frac{\\theta_{1}}{2} \\right)}$"
      ],
      "text/plain": [
       "-(m_x*n_x + m_z*n_z)*sin(\\theta_0/2)*sin(\\theta_1/2) + cos(\\theta_0/2)*cos(\\theta_1/2)"
      ]
     },
     "execution_count": 16,
     "metadata": {},
     "output_type": "execute_result"
    }
   ],
   "source": [
    "cos_tet_v0 = cos(o0/2)*cos(o1/2)-(mx*nx+mz*nz)*sin(o0/2)*sin(o1/2)\n",
    "cos_tet_v0"
   ]
  },
  {
   "cell_type": "code",
   "execution_count": 18,
   "id": "432bcaf6",
   "metadata": {},
   "outputs": [
    {
     "data": {
      "text/latex": [
       "$\\displaystyle \\left[\\begin{matrix}m_{x} \\sin{\\left(\\frac{\\theta_{0}}{2} \\right)} \\cos{\\left(\\frac{\\theta_{1}}{2} \\right)} + n_{x} \\sin{\\left(\\frac{\\theta_{1}}{2} \\right)} \\cos{\\left(\\frac{\\theta_{0}}{2} \\right)} & \\left(m_{x} n_{z} - m_{z} n_{x}\\right) \\sin{\\left(\\frac{\\theta_{0}}{2} \\right)} \\sin{\\left(\\frac{\\theta_{1}}{2} \\right)} & m_{z} \\sin{\\left(\\frac{\\theta_{0}}{2} \\right)} \\cos{\\left(\\frac{\\theta_{1}}{2} \\right)} + n_{z} \\sin{\\left(\\frac{\\theta_{1}}{2} \\right)} \\cos{\\left(\\frac{\\theta_{0}}{2} \\right)}\\end{matrix}\\right]$"
      ],
      "text/plain": [
       "Matrix([[m_x*sin(\\theta_0/2)*cos(\\theta_1/2) + n_x*sin(\\theta_1/2)*cos(\\theta_0/2), (m_x*n_z - m_z*n_x)*sin(\\theta_0/2)*sin(\\theta_1/2), m_z*sin(\\theta_0/2)*cos(\\theta_1/2) + n_z*sin(\\theta_1/2)*cos(\\theta_0/2)]])"
      ]
     },
     "execution_count": 18,
     "metadata": {},
     "output_type": "execute_result"
    }
   ],
   "source": [
    "sin_n_v0 = Matrix([[cos(o1/2)*sin(o0/2)*mx +cos(o0/2)*sin(o1/2)*nx,\n",
    "                    sin(o0/2)*sin(o1/2)*(mx*nz-mz*nx),\n",
    "                   cos(o1/2)*sin(o0/2)*mz +cos(o0/2)*sin(o1/2)*nz]])\n",
    "sin_n_v0"
   ]
  },
  {
   "cell_type": "code",
   "execution_count": 19,
   "id": "0ad8a920",
   "metadata": {},
   "outputs": [
    {
     "data": {
      "text/latex": [
       "$\\displaystyle \\left[\\begin{matrix}m_{x} \\sin{\\left(\\frac{\\theta_{0}}{2} \\right)} \\cos{\\left(\\frac{\\theta_{1}}{2} \\right)} + n_{x} \\sin{\\left(\\frac{\\theta_{1}}{2} \\right)} \\cos{\\left(\\frac{\\theta_{0}}{2} \\right)} & - \\left(m_{x} n_{z} - m_{z} n_{x}\\right) \\sin{\\left(\\frac{\\theta_{0}}{2} \\right)} \\sin{\\left(\\frac{\\theta_{1}}{2} \\right)} & m_{z} \\sin{\\left(\\frac{\\theta_{0}}{2} \\right)} \\cos{\\left(\\frac{\\theta_{1}}{2} \\right)} + n_{z} \\sin{\\left(\\frac{\\theta_{1}}{2} \\right)} \\cos{\\left(\\frac{\\theta_{0}}{2} \\right)}\\end{matrix}\\right]$"
      ],
      "text/plain": [
       "Matrix([[m_x*sin(\\theta_0/2)*cos(\\theta_1/2) + n_x*sin(\\theta_1/2)*cos(\\theta_0/2), -(m_x*n_z - m_z*n_x)*sin(\\theta_0/2)*sin(\\theta_1/2), m_z*sin(\\theta_0/2)*cos(\\theta_1/2) + n_z*sin(\\theta_1/2)*cos(\\theta_0/2)]])"
      ]
     },
     "execution_count": 19,
     "metadata": {},
     "output_type": "execute_result"
    }
   ],
   "source": [
    "sin_n_v1 = Matrix([[cos(o1/2)*sin(o0/2)*mx +cos(o0/2)*sin(o1/2)*nx,\n",
    "                    -sin(o0/2)*sin(o1/2)*(mx*nz-mz*nx),\n",
    "                   cos(o1/2)*sin(o0/2)*mz +cos(o0/2)*sin(o1/2)*nz]])\n",
    "sin_n_v1"
   ]
  },
  {
   "cell_type": "code",
   "execution_count": 27,
   "id": "a1617931",
   "metadata": {},
   "outputs": [
    {
     "data": {
      "text/latex": [
       "$\\displaystyle - \\left(m_{x} n_{z} - m_{z} n_{x}\\right)^{2} \\sin^{2}{\\left(\\frac{\\theta_{0}}{2} \\right)} \\sin^{2}{\\left(\\frac{\\theta_{1}}{2} \\right)} - \\left(m_{x} \\sin{\\left(\\frac{\\theta_{0}}{2} \\right)} \\cos{\\left(\\frac{\\theta_{1}}{2} \\right)} + n_{x} \\sin{\\left(\\frac{\\theta_{1}}{2} \\right)} \\cos{\\left(\\frac{\\theta_{0}}{2} \\right)}\\right)^{2} - \\left(m_{z} \\sin{\\left(\\frac{\\theta_{0}}{2} \\right)} \\cos{\\left(\\frac{\\theta_{1}}{2} \\right)} + n_{z} \\sin{\\left(\\frac{\\theta_{1}}{2} \\right)} \\cos{\\left(\\frac{\\theta_{0}}{2} \\right)}\\right)^{2} + \\left(\\left(m_{x} n_{x} + m_{z} n_{z}\\right) \\sin{\\left(\\frac{\\theta_{0}}{2} \\right)} \\sin{\\left(\\frac{\\theta_{1}}{2} \\right)} - \\cos{\\left(\\frac{\\theta_{0}}{2} \\right)} \\cos{\\left(\\frac{\\theta_{1}}{2} \\right)}\\right)^{2}$"
      ],
      "text/plain": [
       "-(m_x*n_z - m_z*n_x)**2*sin(\\theta_0/2)**2*sin(\\theta_1/2)**2 - (m_x*sin(\\theta_0/2)*cos(\\theta_1/2) + n_x*sin(\\theta_1/2)*cos(\\theta_0/2))**2 - (m_z*sin(\\theta_0/2)*cos(\\theta_1/2) + n_z*sin(\\theta_1/2)*cos(\\theta_0/2))**2 + ((m_x*n_x + m_z*n_z)*sin(\\theta_0/2)*sin(\\theta_1/2) - cos(\\theta_0/2)*cos(\\theta_1/2))**2"
      ]
     },
     "execution_count": 27,
     "metadata": {},
     "output_type": "execute_result"
    }
   ],
   "source": [
    "cos_tet_v0v1 = cos_tet_v0**2-sin_n_v0.dot(sin_n_v0)\n",
    "simplify(cos_tet_v0v1)"
   ]
  },
  {
   "cell_type": "code",
   "execution_count": 15,
   "id": "3f81d5eb",
   "metadata": {},
   "outputs": [
    {
     "data": {
      "text/latex": [
       "$\\displaystyle \\left[\\begin{matrix}\\left(- i m_{x} n_{x} \\sin{\\left(2 \\theta \\right)} + m_{y} n_{x} \\sin{\\left(2 \\theta \\right)} - m_{z} n_{x}^{2} \\sin^{2}{\\left(\\theta \\right)} + m_{z} n_{z}^{2} \\sin^{2}{\\left(\\theta \\right)} + m_{z} \\cos^{2}{\\left(\\theta \\right)}\\right) \\sin{\\left(\\phi \\right)} & \\left(i n_{x} \\left(m_{z} \\left(i n_{z} \\sin{\\left(\\theta \\right)} - \\cos{\\left(\\theta \\right)}\\right) + i n_{x} \\left(m_{x} + i m_{y}\\right) \\sin{\\left(\\theta \\right)}\\right) \\sin{\\left(\\theta \\right)} + \\left(i n_{z} \\sin{\\left(\\theta \\right)} - \\cos{\\left(\\theta \\right)}\\right) \\left(i m_{z} n_{x} \\sin{\\left(\\theta \\right)} + \\left(m_{x} + i m_{y}\\right) \\left(i n_{z} \\sin{\\left(\\theta \\right)} - \\cos{\\left(\\theta \\right)}\\right)\\right)\\right) \\sin{\\left(\\phi \\right)}\\\\\\left(i n_{x} \\left(m_{z} \\left(i n_{z} \\sin{\\left(\\theta \\right)} + \\cos{\\left(\\theta \\right)}\\right) - i n_{x} \\left(m_{x} + i m_{y}\\right) \\sin{\\left(\\theta \\right)}\\right) \\sin{\\left(\\theta \\right)} + \\left(i n_{z} \\sin{\\left(\\theta \\right)} + \\cos{\\left(\\theta \\right)}\\right) \\left(i m_{z} n_{x} \\sin{\\left(\\theta \\right)} - \\left(m_{x} + i m_{y}\\right) \\left(i n_{z} \\sin{\\left(\\theta \\right)} + \\cos{\\left(\\theta \\right)}\\right)\\right)\\right) \\sin{\\left(\\phi \\right)} & \\left(i m_{x} n_{x} \\sin{\\left(2 \\theta \\right)} - m_{y} n_{x} \\sin{\\left(2 \\theta \\right)} + m_{z} n_{x}^{2} \\sin^{2}{\\left(\\theta \\right)} - m_{z} n_{z}^{2} \\sin^{2}{\\left(\\theta \\right)} - m_{z} \\cos^{2}{\\left(\\theta \\right)}\\right) \\sin{\\left(\\phi \\right)}\\end{matrix}\\right]$"
      ],
      "text/plain": [
       "Matrix([\n",
       "[                                                                            (-I*m_x*n_x*sin(2*\\theta) + m_y*n_x*sin(2*\\theta) - m_z*n_x**2*sin(\\theta)**2 + m_z*n_z**2*sin(\\theta)**2 + m_z*cos(\\theta)**2)*sin(\\phi), (I*n_x*(m_z*(I*n_z*sin(\\theta) - cos(\\theta)) + I*n_x*(m_x + I*m_y)*sin(\\theta))*sin(\\theta) + (I*n_z*sin(\\theta) - cos(\\theta))*(I*m_z*n_x*sin(\\theta) + (m_x + I*m_y)*(I*n_z*sin(\\theta) - cos(\\theta))))*sin(\\phi)],\n",
       "[(I*n_x*(m_z*(I*n_z*sin(\\theta) + cos(\\theta)) - I*n_x*(m_x + I*m_y)*sin(\\theta))*sin(\\theta) + (I*n_z*sin(\\theta) + cos(\\theta))*(I*m_z*n_x*sin(\\theta) - (m_x + I*m_y)*(I*n_z*sin(\\theta) + cos(\\theta))))*sin(\\phi),                                                                              (I*m_x*n_x*sin(2*\\theta) - m_y*n_x*sin(2*\\theta) + m_z*n_x**2*sin(\\theta)**2 - m_z*n_z**2*sin(\\theta)**2 - m_z*cos(\\theta)**2)*sin(\\phi)]])"
      ]
     },
     "execution_count": 15,
     "metadata": {},
     "output_type": "execute_result"
    }
   ],
   "source": [
    "mx, mz, my, nx, nz, tet, phi = symbols(r\"m_x m_z m_y n_x n_z \\theta \\phi\")\n",
    "\n",
    "U = Matrix([[cos(tet)- I*sin(tet)*nz, I*sin(tet)*nx],\n",
    "             [I*sin(tet)*nx, cos(tet)+I*sin(tet)*nz]])\n",
    "\n",
    "VV = Matrix([[sin(phi)*mz, sin(phi)*mx+I*sin(phi)*my],\n",
    "             [-sin(phi)*mx-I*sin(phi)*my, -sin(phi)*mz]])\n",
    "\n",
    "U_dag = Matrix([[cos(tet)+ I*sin(tet)*nz, -I*sin(tet)*nx],\n",
    "                 [-I*sin(tet)*nx, cos(tet)-I*sin(tet)*nz]])\n",
    "\n",
    "A = simplify(U*VV*U_dag)\n",
    "A"
   ]
  },
  {
   "cell_type": "code",
   "execution_count": 14,
   "id": "811c434c",
   "metadata": {},
   "outputs": [
    {
     "data": {
      "text/latex": [
       "$\\displaystyle \\left(- m_{x} n_{x} \\sin{\\left(2 \\theta \\right)} - i m_{y} n_{x} \\sin{\\left(2 \\theta \\right)} + i m_{z} n_{x}^{2} \\sin^{2}{\\left(\\theta \\right)} - i m_{z} n_{z}^{2} \\sin^{2}{\\left(\\theta \\right)} - i m_{z} \\cos^{2}{\\left(\\theta \\right)}\\right) \\sin{\\left(\\phi \\right)}$"
      ],
      "text/plain": [
       "(-m_x*n_x*sin(2*\\theta) - I*m_y*n_x*sin(2*\\theta) + I*m_z*n_x**2*sin(\\theta)**2 - I*m_z*n_z**2*sin(\\theta)**2 - I*m_z*cos(\\theta)**2)*sin(\\phi)"
      ]
     },
     "execution_count": 14,
     "metadata": {},
     "output_type": "execute_result"
    }
   ],
   "source": [
    "A[0,0]"
   ]
  },
  {
   "cell_type": "code",
   "execution_count": null,
   "id": "02ac6712",
   "metadata": {},
   "outputs": [],
   "source": []
  }
 ],
 "metadata": {
  "kernelspec": {
   "display_name": "py3",
   "language": "python",
   "name": "py3"
  },
  "language_info": {
   "codemirror_mode": {
    "name": "ipython",
    "version": 3
   },
   "file_extension": ".py",
   "mimetype": "text/x-python",
   "name": "python",
   "nbconvert_exporter": "python",
   "pygments_lexer": "ipython3",
   "version": "3.9.13"
  }
 },
 "nbformat": 4,
 "nbformat_minor": 5
}
